{
 "cells": [
  {
   "cell_type": "markdown",
   "id": "20a4b2a4",
   "metadata": {},
   "source": [
    "# Timing Analysis of WPA3-Dragonfly Side-Channel\n",
    "\n",
    "This notebook will:\n",
    "\n",
    "1. Load the simulated timing data from `data/pe_generation_full.csv`\n",
    "2. Plot the distribution of loop‐counts and execution times per password\n",
    "3. Illustrate how distinct “signatures” emerge"
   ]
  },
  {
   "cell_type": "code",
   "execution_count": null,
   "id": "1b9116e8",
   "metadata": {},
   "outputs": [
    {
     "ename": "",
     "evalue": "",
     "output_type": "error",
     "traceback": [
      "\u001b[1;31mRunning cells with 'Python 3.13.5' requires the ipykernel package.\n",
      "\u001b[1;31m<a href='command:jupyter.createPythonEnvAndSelectController'>Create a Python Environment</a> with the required packages."
     ]
    }
   ],
   "source": [
    "import pandas as pd\n",
    "import matplotlib.pyplot as plt\n",
    "\n",
    "\n",
    "df = pd.read_csv(\"data/pe_generation_full.csv\")\n",
    "\n",
    "# quick preview\n",
    "df.head()\n"
   ]
  },
  {
   "cell_type": "code",
   "execution_count": null,
   "id": "e9e8030c",
   "metadata": {},
   "outputs": [],
   "source": [
    "# Plot iteration vs execution_time_us\n",
    "plt.plot(df['iteration'], df['execution_time_us'], marker='o')\n",
    "plt.xlabel('Iteration')\n",
    "plt.ylabel('Total execution time (µs)')\n",
    "plt.title('PE Generation: Iteration vs Execution Time')\n",
    "plt.grid(True)\n",
    "plt.show()\n",
    "\n",
    "\n"
   ]
  }
 ],
 "metadata": {
  "kernelspec": {
   "display_name": "Python 3",
   "language": "python",
   "name": "python3"
  },
  "language_info": {
   "name": "python",
   "version": "3.13.5"
  }
 },
 "nbformat": 4,
 "nbformat_minor": 5
}
